{
 "cells": [
  {
   "cell_type": "code",
   "execution_count": 1,
   "id": "655c8319",
   "metadata": {},
   "outputs": [],
   "source": [
    "import json\n",
    "import os\n",
    "import pandas as pd"
   ]
  },
  {
   "cell_type": "code",
   "execution_count": 2,
   "id": "1c7100c1",
   "metadata": {},
   "outputs": [
    {
     "name": "stderr",
     "output_type": "stream",
     "text": [
      "<>:1: SyntaxWarning: invalid escape sequence '\\S'\n",
      "<>:1: SyntaxWarning: invalid escape sequence '\\S'\n",
      "C:\\Users\\nbich\\AppData\\Local\\Temp\\ipykernel_6472\\546955477.py:1: SyntaxWarning: invalid escape sequence '\\S'\n",
      "  pre_dir = \"D:\\Subject\\DPL302m\\PixArt-alpha\\data\\SA1B\"\n"
     ]
    }
   ],
   "source": [
    "pre_dir = \"D:\\Subject\\DPL302m\\PixArt-alpha\\data\\SA1B\""
   ]
  },
  {
   "cell_type": "code",
   "execution_count": 3,
   "id": "ad353745",
   "metadata": {},
   "outputs": [
    {
     "name": "stderr",
     "output_type": "stream",
     "text": [
      "<>:1: SyntaxWarning: invalid escape sequence '\\S'\n",
      "<>:14: SyntaxWarning: invalid escape sequence '\\S'\n",
      "<>:1: SyntaxWarning: invalid escape sequence '\\S'\n",
      "<>:14: SyntaxWarning: invalid escape sequence '\\S'\n",
      "C:\\Users\\nbich\\AppData\\Local\\Temp\\ipykernel_6472\\4070041331.py:1: SyntaxWarning: invalid escape sequence '\\S'\n",
      "  with open('D:\\Subject\\DPL302m\\Code\\Project\\Contemporary\\output.json','r',encoding='utf-8') as f:\n",
      "C:\\Users\\nbich\\AppData\\Local\\Temp\\ipykernel_6472\\4070041331.py:14: SyntaxWarning: invalid escape sequence '\\S'\n",
      "  with open('D:\\Subject\\DPL302m\\PixArt-alpha\\data\\data_info.json', 'w', encoding='utf-8') as f:\n"
     ]
    }
   ],
   "source": [
    "with open('D:\\Subject\\DPL302m\\Code\\Project\\Contemporary\\output.json','r',encoding='utf-8') as f:\n",
    "    data = json.load(f)\n",
    "\n",
    "train_data = []\n",
    "\n",
    "for key, value in data.items():\n",
    "    img_path = value['image_path'].replace(\"\\\\\", \"/\")\n",
    "    text = value['text']\n",
    "    train_data.append({\n",
    "        \"image\": pre_dir + img_path,\n",
    "        \"prompt\": text\n",
    "    })\n",
    "\n",
    "with open('D:\\Subject\\DPL302m\\PixArt-alpha\\data\\data_info.json', 'w', encoding='utf-8') as f:\n",
    "    json.dump(train_data, f, indent=4, ensure_ascii=False)"
   ]
  }
 ],
 "metadata": {
  "kernelspec": {
   "display_name": "DL-torch",
   "language": "python",
   "name": "python3"
  },
  "language_info": {
   "codemirror_mode": {
    "name": "ipython",
    "version": 3
   },
   "file_extension": ".py",
   "mimetype": "text/x-python",
   "name": "python",
   "nbconvert_exporter": "python",
   "pygments_lexer": "ipython3",
   "version": "3.13.5"
  }
 },
 "nbformat": 4,
 "nbformat_minor": 5
}
